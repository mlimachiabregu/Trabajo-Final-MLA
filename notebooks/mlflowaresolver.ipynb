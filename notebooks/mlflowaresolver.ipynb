{
 "cells": [
  {
   "cell_type": "code",
   "execution_count": 3,
   "metadata": {},
   "outputs": [],
   "source": [
    "import mlflow"
   ]
  },
  {
   "cell_type": "code",
   "execution_count": 4,
   "metadata": {},
   "outputs": [],
   "source": [
    "#conexion hacia el server de mlflow\n",
    "mlflow.set_tracking_uri(\"http://127.0.0.1:5000/\")"
   ]
  },
  {
   "cell_type": "code",
   "execution_count": 5,
   "metadata": {},
   "outputs": [],
   "source": [
    "import pandas as pd\n",
    "data=pd.read_csv('../Data/train.csv')"
   ]
  },
  {
   "cell_type": "code",
   "execution_count": 6,
   "metadata": {},
   "outputs": [],
   "source": [
    "# Creacion del cliente\n",
    "client = mlflow.tracking.MlflowClient()"
   ]
  },
  {
   "cell_type": "code",
   "execution_count": 7,
   "metadata": {},
   "outputs": [],
   "source": [
    "experiments=client.search_experiments()"
   ]
  },
  {
   "cell_type": "code",
   "execution_count": 8,
   "metadata": {},
   "outputs": [
    {
     "data": {
      "text/plain": [
       "[<Experiment: artifact_location='file:///d:/EntregableMLA/notebooks/mlruns/142787257619671728', creation_time=1729558387091, experiment_id='142787257619671728', last_update_time=1729558387091, lifecycle_stage='active', name='CrediCorp', tags={}>,\n",
       " <Experiment: artifact_location='file:///d:/EntregableMLA/notebooks/mlruns/0', creation_time=1729558387077, experiment_id='0', last_update_time=1729558387077, lifecycle_stage='active', name='Default', tags={}>]"
      ]
     },
     "execution_count": 8,
     "metadata": {},
     "output_type": "execute_result"
    }
   ],
   "source": [
    "experiments"
   ]
  },
  {
   "cell_type": "code",
   "execution_count": 9,
   "metadata": {},
   "outputs": [],
   "source": [
    "filtered_experiments = list(filter(lambda k: k.name == 'CrediCorp', experiments))\n",
    "if filtered_experiments:\n",
    "    experiment = filtered_experiments[0]\n",
    "else:\n",
    "    print(\"No se encontró ningún experimento con el nombre 'CrediCorp'.\")\n"
   ]
  },
  {
   "cell_type": "code",
   "execution_count": 10,
   "metadata": {},
   "outputs": [],
   "source": [
    "experiment=list(filter(lambda k:k.name=='CrediCorp',experiments))[0]"
   ]
  },
  {
   "cell_type": "code",
   "execution_count": 11,
   "metadata": {},
   "outputs": [],
   "source": [
    "experiment_id =experiment.experiment_id"
   ]
  },
  {
   "cell_type": "code",
   "execution_count": 12,
   "metadata": {},
   "outputs": [
    {
     "data": {
      "text/plain": [
       "'142787257619671728'"
      ]
     },
     "execution_count": 12,
     "metadata": {},
     "output_type": "execute_result"
    }
   ],
   "source": [
    "experiment_id"
   ]
  },
  {
   "cell_type": "code",
   "execution_count": 13,
   "metadata": {},
   "outputs": [],
   "source": [
    "runs=client.search_runs(experiment_ids=experiment_id,\n",
    "                        filter_string=\"\",\n",
    "                        run_view_type=mlflow.entities.ViewType.ACTIVE_ONLY,\n",
    "                        max_results=3,\n",
    "                        order_by=[\"metrics.R2 DESC\"])# ordenar por R2 desc porque va de 0 a 1"
   ]
  },
  {
   "cell_type": "code",
   "execution_count": 14,
   "metadata": {},
   "outputs": [
    {
     "data": {
      "text/plain": [
       "[<Run: data=<RunData: metrics={'AUC': 0.8776,\n",
       "  'Accuracy': 0.8611,\n",
       "  'F1': 0.6204,\n",
       "  'Kappa': 0.538,\n",
       "  'MCC': 0.5481,\n",
       "  'Prec': 0.7357,\n",
       "  'Recall': 0.5365,\n",
       "  'TT': 2.19}, params={'bootstrap': 'True',\n",
       "  'ccp_alpha': '0.0',\n",
       "  'class_weight': 'None',\n",
       "  'criterion': 'gini',\n",
       "  'max_depth': 'None',\n",
       "  'max_features': 'sqrt',\n",
       "  'max_leaf_nodes': 'None',\n",
       "  'max_samples': 'None',\n",
       "  'min_impurity_decrease': '0.0',\n",
       "  'min_samples_leaf': '1',\n",
       "  'min_samples_split': '2',\n",
       "  'min_weight_fraction_leaf': '0.0',\n",
       "  'monotonic_cst': 'None',\n",
       "  'n_estimators': '100',\n",
       "  'n_jobs': '-1',\n",
       "  'oob_score': 'False',\n",
       "  'random_state': '123',\n",
       "  'verbose': '0',\n",
       "  'warm_start': 'False'}, tags={'Run ID': '2403555beb644085a70149786bae9a82',\n",
       "  'Run Time': '22.54',\n",
       "  'Source': 'create_model',\n",
       "  'URI': '66a2f81c',\n",
       "  'USI': '4dcc',\n",
       "  'mlflow.log-model.history': '[{\"run_id\": \"2403555beb644085a70149786bae9a82\", '\n",
       "                              '\"artifact_path\": \"model\", \"utc_time_created\": '\n",
       "                              '\"2024-10-22 16:52:42.819783\", \"model_uuid\": '\n",
       "                              '\"6e35e0d5e29846aebba1963c89fc5070\", \"flavors\": '\n",
       "                              '{\"python_function\": {\"model_path\": \"model.pkl\", '\n",
       "                              '\"predict_fn\": \"predict\", \"loader_module\": '\n",
       "                              '\"mlflow.sklearn\", \"python_version\": \"3.11.7\", '\n",
       "                              '\"env\": {\"conda\": \"conda.yaml\", \"virtualenv\": '\n",
       "                              '\"python_env.yaml\"}}, \"sklearn\": '\n",
       "                              '{\"pickled_model\": \"model.pkl\", '\n",
       "                              '\"sklearn_version\": \"1.4.2\", '\n",
       "                              '\"serialization_format\": \"cloudpickle\", \"code\": '\n",
       "                              'null}}}]',\n",
       "  'mlflow.parentRunId': '44be95ae51444a32b0431e1024a18fc0',\n",
       "  'mlflow.runName': 'Random Forest Classifier',\n",
       "  'mlflow.source.name': 'd:\\\\EntregableMLA\\\\TrabajoFinal\\\\Lib\\\\site-packages\\\\ipykernel_launcher.py',\n",
       "  'mlflow.source.type': 'LOCAL',\n",
       "  'mlflow.user': 'admin'}>, info=<RunInfo: artifact_uri='file:///d:/EntregableMLA/notebooks/mlruns/142787257619671728/2403555beb644085a70149786bae9a82/artifacts', end_time=1729615969217, experiment_id='142787257619671728', lifecycle_stage='active', run_id='2403555beb644085a70149786bae9a82', run_name='Random Forest Classifier', run_uuid='2403555beb644085a70149786bae9a82', start_time=1729615961629, status='FINISHED', user_id='admin'>, inputs=<RunInputs: dataset_inputs=[]>>,\n",
       " <Run: data=<RunData: metrics={'TT': 2.44}, params={'bootstrap': 'True',\n",
       "  'ccp_alpha': '0.0',\n",
       "  'class_weight': 'None',\n",
       "  'criterion': 'gini',\n",
       "  'max_depth': '10',\n",
       "  'max_features': 'sqrt',\n",
       "  'max_leaf_nodes': 'None',\n",
       "  'max_samples': 'None',\n",
       "  'min_impurity_decrease': '0.0',\n",
       "  'min_samples_leaf': '1',\n",
       "  'min_samples_split': '2',\n",
       "  'min_weight_fraction_leaf': '0.0',\n",
       "  'monotonic_cst': 'None',\n",
       "  'n_estimators': '100',\n",
       "  'n_jobs': '-1',\n",
       "  'oob_score': 'False',\n",
       "  'random_state': '123',\n",
       "  'verbose': '0',\n",
       "  'warm_start': 'False'}, tags={'Run ID': '914636f670f9498e9eb1d51faa0aab62',\n",
       "  'Run Time': '2.56',\n",
       "  'Source': 'finalize_model',\n",
       "  'URI': 'b5bc4a67',\n",
       "  'USI': '4dcc',\n",
       "  'mlflow.log-model.history': '[{\"run_id\": \"914636f670f9498e9eb1d51faa0aab62\", '\n",
       "                              '\"artifact_path\": \"model\", \"utc_time_created\": '\n",
       "                              '\"2024-10-22 14:21:40.442212\", \"model_uuid\": '\n",
       "                              '\"a952cc93e34043bf9d14db748e065b3a\", \"flavors\": '\n",
       "                              '{\"python_function\": {\"model_path\": \"model.pkl\", '\n",
       "                              '\"predict_fn\": \"predict\", \"loader_module\": '\n",
       "                              '\"mlflow.sklearn\", \"python_version\": \"3.11.7\", '\n",
       "                              '\"env\": {\"conda\": \"conda.yaml\", \"virtualenv\": '\n",
       "                              '\"python_env.yaml\"}}, \"sklearn\": '\n",
       "                              '{\"pickled_model\": \"model.pkl\", '\n",
       "                              '\"sklearn_version\": \"1.4.2\", '\n",
       "                              '\"serialization_format\": \"cloudpickle\", \"code\": '\n",
       "                              'null}}}]',\n",
       "  'mlflow.parentRunId': '44be95ae51444a32b0431e1024a18fc0',\n",
       "  'mlflow.runName': 'Random Forest Classifier',\n",
       "  'mlflow.source.name': 'd:\\\\EntregableMLA\\\\TrabajoFinal\\\\Lib\\\\site-packages\\\\ipykernel_launcher.py',\n",
       "  'mlflow.source.type': 'LOCAL',\n",
       "  'mlflow.user': 'admin'}>, info=<RunInfo: artifact_uri='file:///d:/EntregableMLA/notebooks/mlruns/142787257619671728/914636f670f9498e9eb1d51faa0aab62/artifacts', end_time=1729606903234, experiment_id='142787257619671728', lifecycle_stage='active', run_id='914636f670f9498e9eb1d51faa0aab62', run_name='Random Forest Classifier', run_uuid='914636f670f9498e9eb1d51faa0aab62', start_time=1729606900345, status='FINISHED', user_id='admin'>, inputs=<RunInputs: dataset_inputs=[]>>,\n",
       " <Run: data=<RunData: metrics={'AUC': 0.8874,\n",
       "  'Accuracy': 0.8639,\n",
       "  'F1': 0.6116,\n",
       "  'Kappa': 0.5334,\n",
       "  'MCC': 0.5509,\n",
       "  'Prec': 0.7725,\n",
       "  'Recall': 0.5062,\n",
       "  'TT': 1.53}, params={'bootstrap': 'True',\n",
       "  'ccp_alpha': '0.0',\n",
       "  'class_weight': 'None',\n",
       "  'criterion': 'gini',\n",
       "  'max_depth': '10',\n",
       "  'max_features': 'sqrt',\n",
       "  'max_leaf_nodes': 'None',\n",
       "  'max_samples': 'None',\n",
       "  'min_impurity_decrease': '0.0',\n",
       "  'min_samples_leaf': '1',\n",
       "  'min_samples_split': '2',\n",
       "  'min_weight_fraction_leaf': '0.0',\n",
       "  'monotonic_cst': 'None',\n",
       "  'n_estimators': '100',\n",
       "  'n_jobs': '-1',\n",
       "  'oob_score': 'False',\n",
       "  'random_state': '123',\n",
       "  'verbose': '0',\n",
       "  'warm_start': 'False'}, tags={'Run ID': '6a54c14b86e8492683b060623ec77962',\n",
       "  'Run Time': '61.23',\n",
       "  'Source': 'tune_model',\n",
       "  'URI': '47d2a51a',\n",
       "  'USI': '4dcc',\n",
       "  'mlflow.log-model.history': '[{\"run_id\": \"6a54c14b86e8492683b060623ec77962\", '\n",
       "                              '\"artifact_path\": \"model\", \"utc_time_created\": '\n",
       "                              '\"2024-10-22 14:21:13.411019\", \"model_uuid\": '\n",
       "                              '\"16fc2eebc63944eb916d4f37b5555763\", \"flavors\": '\n",
       "                              '{\"python_function\": {\"model_path\": \"model.pkl\", '\n",
       "                              '\"predict_fn\": \"predict\", \"loader_module\": '\n",
       "                              '\"mlflow.sklearn\", \"python_version\": \"3.11.7\", '\n",
       "                              '\"env\": {\"conda\": \"conda.yaml\", \"virtualenv\": '\n",
       "                              '\"python_env.yaml\"}}, \"sklearn\": '\n",
       "                              '{\"pickled_model\": \"model.pkl\", '\n",
       "                              '\"sklearn_version\": \"1.4.2\", '\n",
       "                              '\"serialization_format\": \"cloudpickle\", \"code\": '\n",
       "                              'null}}}]',\n",
       "  'mlflow.parentRunId': '44be95ae51444a32b0431e1024a18fc0',\n",
       "  'mlflow.runName': 'Random Forest Classifier',\n",
       "  'mlflow.source.name': 'd:\\\\EntregableMLA\\\\TrabajoFinal\\\\Lib\\\\site-packages\\\\ipykernel_launcher.py',\n",
       "  'mlflow.source.type': 'LOCAL',\n",
       "  'mlflow.user': 'admin'}>, info=<RunInfo: artifact_uri='file:///d:/EntregableMLA/notebooks/mlruns/142787257619671728/6a54c14b86e8492683b060623ec77962/artifacts', end_time=1729606873533, experiment_id='142787257619671728', lifecycle_stage='active', run_id='6a54c14b86e8492683b060623ec77962', run_name='Random Forest Classifier', run_uuid='6a54c14b86e8492683b060623ec77962', start_time=1729606872764, status='FINISHED', user_id='admin'>, inputs=<RunInputs: dataset_inputs=[]>>]"
      ]
     },
     "execution_count": 14,
     "metadata": {},
     "output_type": "execute_result"
    }
   ],
   "source": [
    "runs"
   ]
  },
  {
   "cell_type": "code",
   "execution_count": 15,
   "metadata": {},
   "outputs": [],
   "source": [
    "runs=runs[0]"
   ]
  },
  {
   "cell_type": "code",
   "execution_count": 16,
   "metadata": {},
   "outputs": [
    {
     "data": {
      "text/plain": [
       "<Run: data=<RunData: metrics={'AUC': 0.8776,\n",
       " 'Accuracy': 0.8611,\n",
       " 'F1': 0.6204,\n",
       " 'Kappa': 0.538,\n",
       " 'MCC': 0.5481,\n",
       " 'Prec': 0.7357,\n",
       " 'Recall': 0.5365,\n",
       " 'TT': 2.19}, params={'bootstrap': 'True',\n",
       " 'ccp_alpha': '0.0',\n",
       " 'class_weight': 'None',\n",
       " 'criterion': 'gini',\n",
       " 'max_depth': 'None',\n",
       " 'max_features': 'sqrt',\n",
       " 'max_leaf_nodes': 'None',\n",
       " 'max_samples': 'None',\n",
       " 'min_impurity_decrease': '0.0',\n",
       " 'min_samples_leaf': '1',\n",
       " 'min_samples_split': '2',\n",
       " 'min_weight_fraction_leaf': '0.0',\n",
       " 'monotonic_cst': 'None',\n",
       " 'n_estimators': '100',\n",
       " 'n_jobs': '-1',\n",
       " 'oob_score': 'False',\n",
       " 'random_state': '123',\n",
       " 'verbose': '0',\n",
       " 'warm_start': 'False'}, tags={'Run ID': '2403555beb644085a70149786bae9a82',\n",
       " 'Run Time': '22.54',\n",
       " 'Source': 'create_model',\n",
       " 'URI': '66a2f81c',\n",
       " 'USI': '4dcc',\n",
       " 'mlflow.log-model.history': '[{\"run_id\": \"2403555beb644085a70149786bae9a82\", '\n",
       "                             '\"artifact_path\": \"model\", \"utc_time_created\": '\n",
       "                             '\"2024-10-22 16:52:42.819783\", \"model_uuid\": '\n",
       "                             '\"6e35e0d5e29846aebba1963c89fc5070\", \"flavors\": '\n",
       "                             '{\"python_function\": {\"model_path\": \"model.pkl\", '\n",
       "                             '\"predict_fn\": \"predict\", \"loader_module\": '\n",
       "                             '\"mlflow.sklearn\", \"python_version\": \"3.11.7\", '\n",
       "                             '\"env\": {\"conda\": \"conda.yaml\", \"virtualenv\": '\n",
       "                             '\"python_env.yaml\"}}, \"sklearn\": '\n",
       "                             '{\"pickled_model\": \"model.pkl\", '\n",
       "                             '\"sklearn_version\": \"1.4.2\", '\n",
       "                             '\"serialization_format\": \"cloudpickle\", \"code\": '\n",
       "                             'null}}}]',\n",
       " 'mlflow.parentRunId': '44be95ae51444a32b0431e1024a18fc0',\n",
       " 'mlflow.runName': 'Random Forest Classifier',\n",
       " 'mlflow.source.name': 'd:\\\\EntregableMLA\\\\TrabajoFinal\\\\Lib\\\\site-packages\\\\ipykernel_launcher.py',\n",
       " 'mlflow.source.type': 'LOCAL',\n",
       " 'mlflow.user': 'admin'}>, info=<RunInfo: artifact_uri='file:///d:/EntregableMLA/notebooks/mlruns/142787257619671728/2403555beb644085a70149786bae9a82/artifacts', end_time=1729615969217, experiment_id='142787257619671728', lifecycle_stage='active', run_id='2403555beb644085a70149786bae9a82', run_name='Random Forest Classifier', run_uuid='2403555beb644085a70149786bae9a82', start_time=1729615961629, status='FINISHED', user_id='admin'>, inputs=<RunInputs: dataset_inputs=[]>>"
      ]
     },
     "execution_count": 16,
     "metadata": {},
     "output_type": "execute_result"
    }
   ],
   "source": [
    "runs"
   ]
  },
  {
   "cell_type": "code",
   "execution_count": 17,
   "metadata": {},
   "outputs": [],
   "source": [
    "run_id=runs.data.tags['Run ID']"
   ]
  },
  {
   "cell_type": "code",
   "execution_count": 18,
   "metadata": {},
   "outputs": [
    {
     "data": {
      "text/plain": [
       "'2403555beb644085a70149786bae9a82'"
      ]
     },
     "execution_count": 18,
     "metadata": {},
     "output_type": "execute_result"
    }
   ],
   "source": [
    "#como tenemos el id  podemos utilizarlo para obtener los artefactos\n",
    "run_id"
   ]
  },
  {
   "cell_type": "code",
   "execution_count": 33,
   "metadata": {},
   "outputs": [
    {
     "data": {
      "text/plain": [
       "array([0, 0, 0, ..., 0, 0, 1], dtype=int8)"
      ]
     },
     "execution_count": 33,
     "metadata": {},
     "output_type": "execute_result"
    }
   ],
   "source": [
    "import mlflow\n",
    "logged_model = f'runs:/{run_id}/model'\n",
    "\n",
    "# Load model as a PyFuncModel.\n",
    "loaded_model = mlflow.pyfunc.load_model(logged_model)\n",
    "\n",
    "\n",
    "# Predict on a Pandas DataFrame.\n",
    "import pandas as pd\n",
    "exclude_variables=['id','Surname']\n",
    "loaded_model.predict(data.drop(columns=exclude_variables+['Exited']))"
   ]
  },
  {
   "cell_type": "code",
   "execution_count": 20,
   "metadata": {},
   "outputs": [
    {
     "name": "stderr",
     "output_type": "stream",
     "text": [
      "Successfully registered model 'Credito_model3'.\n",
      "2024/10/22 12:53:19 INFO mlflow.store.model_registry.abstract_store: Waiting up to 300 seconds for model version to finish creation. Model name: Credito_model3, version 1\n",
      "Created version '1' of model 'Credito_model3'.\n"
     ]
    },
    {
     "data": {
      "text/plain": [
       "<ModelVersion: aliases=[], creation_timestamp=1729619599603, current_stage='None', description='', last_updated_timestamp=1729619599603, name='Credito_model3', run_id='2403555beb644085a70149786bae9a82', run_link='', source='file:///d:/EntregableMLA/notebooks/mlruns/142787257619671728/2403555beb644085a70149786bae9a82/artifacts/model', status='READY', status_message='', tags={}, user_id='', version='1'>"
      ]
     },
     "execution_count": 20,
     "metadata": {},
     "output_type": "execute_result"
    }
   ],
   "source": [
    "#utilizar en el entorno de produccion\n",
    "#registrar un modelo el mejor pase por el proceso de validacion\n",
    "# el modelo se registra en el servidor de mlflow\n",
    "# se registra en funcion de run_id y poder colocar un nombre\n",
    "\n",
    "mlflow.register_model(f\"runs:/{run_id}/model\", \"Credito_model3\")"
   ]
  },
  {
   "cell_type": "code",
   "execution_count": 36,
   "metadata": {},
   "outputs": [
    {
     "data": {
      "text/plain": [
       "<ModelVersion: aliases=[], creation_timestamp=1729620354002, current_stage='Production', description='', last_updated_timestamp=1729620669340, name='Credito_Prod', run_id='2403555beb644085a70149786bae9a82', run_link='', source='file:///d:/EntregableMLA/notebooks/mlruns/142787257619671728/2403555beb644085a70149786bae9a82/artifacts/model', status='READY', status_message='', tags={'Autor': 'Manuel Limachi'}, user_id='', version='1'>"
      ]
     },
     "execution_count": 36,
     "metadata": {},
     "output_type": "execute_result"
    }
   ],
   "source": [
    "client.transition_model_version_stage(name='Credito_Prod',version=1,stage='Production')"
   ]
  },
  {
   "cell_type": "code",
   "execution_count": 37,
   "metadata": {},
   "outputs": [
    {
     "data": {
      "text/plain": [
       "array([0, 0, 0, ..., 0, 0, 1], dtype=int8)"
      ]
     },
     "execution_count": 37,
     "metadata": {},
     "output_type": "execute_result"
    }
   ],
   "source": [
    "#la carga del modelo en produccion es desde el estado de produccion\n",
    "import mlflow\n",
    "logged_model = f'models:/Credito_Prod/Production'\n",
    "\n",
    "\n",
    "# Load model as a PyFuncModel.\n",
    "loaded_model = mlflow.pyfunc.load_model(logged_model)\n",
    "\n",
    "# Predict on a Pandas DataFrame.\n",
    "import pandas as pd\n",
    "exclude_variables=['id','Surname']\n",
    "loaded_model.predict(data.drop(columns=exclude_variables+['Exited']))"
   ]
  },
  {
   "cell_type": "code",
   "execution_count": 34,
   "metadata": {},
   "outputs": [
    {
     "name": "stderr",
     "output_type": "stream",
     "text": [
      "Registered model 'Credito_Prod' already exists. Creating a new version of this model...\n",
      "2024/10/22 13:05:54 INFO mlflow.store.model_registry.abstract_store: Waiting up to 300 seconds for model version to finish creation. Model name: Credito_Prod, version 1\n",
      "Created version '1' of model 'Credito_Prod'.\n"
     ]
    }
   ],
   "source": [
    "#tag al modelo:\n",
    "\n",
    "registered_model = mlflow.register_model(logged_model,'Credito_Prod')\n",
    "\n",
    "# Obtener la versión del modelo registrado\n",
    "\n",
    "model_version = registered_model.version\n",
    "\n",
    "# Asignar la etiqueta (tag) al modelo registrado\n",
    "\n",
    "client.set_model_version_tag(\n",
    "\n",
    "    name='Credito_Prod',\n",
    "\n",
    "    version=model_version,\n",
    "\n",
    "    key=\"Autor\",\n",
    "\n",
    "    value=\"Manuel Limachi\"\n",
    "\n",
    ")\n",
    "\n"
   ]
  },
  {
   "cell_type": "code",
   "execution_count": null,
   "metadata": {},
   "outputs": [],
   "source": []
  },
  {
   "cell_type": "code",
   "execution_count": 61,
   "metadata": {},
   "outputs": [],
   "source": [
    "from fastapi import FastAPI, HTTPException\n",
    "\n",
    "app = FastAPI()\n",
    "\n",
    "@app.exception_handler(Exception)\n",
    "async def global_exception_handler(request, exc):\n",
    "    return JSONResponse(\n",
    "        status_code=500,\n",
    "        content={\"message\": \"Ocurrió un error en el servidor.\", \"detail\": str(exc)},\n",
    "    )\n"
   ]
  },
  {
   "cell_type": "code",
   "execution_count": 62,
   "metadata": {},
   "outputs": [
    {
     "name": "stdout",
     "output_type": "stream",
     "text": [
      "Error: Object of type DataFrame is not JSON serializable\n"
     ]
    }
   ],
   "source": [
    "import requests\n",
    "\n",
    "try:\n",
    "    response = requests.post(\"http://127.0.0.1:5000/api/2.0/mlflow/model-versions/create\", json=data)\n",
    "    response.raise_for_status()  # Lanza un error si la respuesta es un error HTTP\n",
    "except requests.exceptions.HTTPError as http_err:\n",
    "    print(f\"Error HTTP: {http_err}\")\n",
    "except Exception as err:\n",
    "    print(f\"Error: {err}\")\n"
   ]
  }
 ],
 "metadata": {
  "kernelspec": {
   "display_name": "TrabajoFinal",
   "language": "python",
   "name": "python3"
  },
  "language_info": {
   "codemirror_mode": {
    "name": "ipython",
    "version": 3
   },
   "file_extension": ".py",
   "mimetype": "text/x-python",
   "name": "python",
   "nbconvert_exporter": "python",
   "pygments_lexer": "ipython3",
   "version": "3.11.7"
  }
 },
 "nbformat": 4,
 "nbformat_minor": 2
}
